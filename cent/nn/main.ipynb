{
 "cells": [
  {
   "cell_type": "code",
   "execution_count": 1,
   "metadata": {},
   "outputs": [],
   "source": [
    "import pandas as pd\n",
    "import torch as th\n",
    "import torch.nn as nn\n",
    "import numpy as np\n",
    "from tqdm import tqdm\n",
    "from sklearn.preprocessing import StandardScaler\n",
    "from torch.utils.data import DataLoader,Dataset\n",
    "from matplotlib import pyplot as plt\n",
    "# %matplotlib inline"
   ]
  },
  {
   "cell_type": "code",
   "execution_count": 2,
   "metadata": {},
   "outputs": [],
   "source": [
    "train_data = pd.read_csv('../../data/cbtc/test/train.csv') # 训练集\n",
    "test_data = pd.read_csv('../../data/cbtc/test/test.csv') # 测试集\n",
    "\n",
    "train_input = train_data.loc[:,['brake','target','speed','slope']] # 训练集输入\n",
    "train_output = train_data.loc[:,['acc']] # 训练集输出\n",
    "\n",
    "test_input = test_data.loc[:,['brake','target','speed','slope']] # 测试集输入\n",
    "test_output = test_data.loc[:,['acc']] # 测试集输出"
   ]
  },
  {
   "cell_type": "code",
   "execution_count": 3,
   "metadata": {},
   "outputs": [],
   "source": [
    "# 输入标准化\n",
    "train_features = StandardScaler().fit_transform(train_input)\n",
    "test_features = StandardScaler().fit_transform(test_input)"
   ]
  },
  {
   "cell_type": "code",
   "execution_count": 4,
   "metadata": {},
   "outputs": [],
   "source": [
    "# 将数据转换成张量：x:输入\n",
    "def pre_data(x):\n",
    "    x_array = np.array(x)\n",
    "    x_tensor = th.tensor(x_array)\n",
    "    x = x_tensor.to(th.float32)\n",
    "    return x"
   ]
  },
  {
   "cell_type": "code",
   "execution_count": 5,
   "metadata": {},
   "outputs": [],
   "source": [
    "train_features = pre_data(train_features)\n",
    "train_labels = pre_data(train_output)\n",
    "\n",
    "test_features = pre_data(test_features)\n",
    "test_labels = pre_data(test_output)"
   ]
  },
  {
   "cell_type": "code",
   "execution_count": 6,
   "metadata": {},
   "outputs": [],
   "source": [
    "in_size = 4 # 每组数据4个输入\n",
    "hidden_size = 128 # 隐层\n",
    "out_size = 1 # 每组数据1个输出\n",
    "batch_size = 32\n",
    "drop_out = 0.1\n",
    "epoch_nums = 100\n",
    "learn_rate = 0.01\n",
    "wgt_dcy = 0.1"
   ]
  },
  {
   "cell_type": "code",
   "execution_count": 7,
   "metadata": {},
   "outputs": [],
   "source": [
    "class DatasetHandler(Dataset):\n",
    "    def __init__(self,x, y):\n",
    "        self.x = x\n",
    "        self.y = y\n",
    "    def __len__(self):\n",
    "        return self.x.shape[0]\n",
    "    def __getitem__(self, idx):\n",
    "        return self.x[idx,:], self.y[idx]\n",
    "\n",
    "train_dataset = DatasetHandler(train_features, train_labels)\n",
    "\n",
    "train_dataset = DataLoader(train_dataset, batch_size=batch_size, shuffle=True)"
   ]
  },
  {
   "cell_type": "code",
   "execution_count": 8,
   "metadata": {},
   "outputs": [],
   "source": [
    "# 模型初始化\n",
    "class Module(nn.Module):\n",
    "    def __init__(self):\n",
    "        super(Module, self).__init__()\n",
    "        self.bn = nn.BatchNorm1d(in_size)\n",
    "        self.linear1 = nn.Linear(in_size, hidden_size)\n",
    "        self.RELU = nn.ReLU()\n",
    "        self.dropout = nn.Dropout(drop_out)\n",
    "        self.linear2 = nn.Linear(hidden_size, out_size)\n",
    "\n",
    "    def forward(self,x):\n",
    "        x1 = self.bn(x)\n",
    "        x2 = self.linear1(x1)\n",
    "        x3 = self.RELU(x2)\n",
    "        x4 = self.dropout(x3)\n",
    "        x5 = self.linear2(x4)\n",
    "\n",
    "        return x5"
   ]
  },
  {
   "cell_type": "code",
   "execution_count": 9,
   "metadata": {},
   "outputs": [],
   "source": [
    "model =Module()\n",
    "cost = nn.MSELoss(reduction='mean') # 损失函数\n",
    "optimizer = th.optim.Adam(model.parameters(), lr=learn_rate,\n",
    "                          weight_decay=wgt_dcy)"
   ]
  },
  {
   "cell_type": "code",
   "execution_count": null,
   "metadata": {
    "pycharm": {
     "is_executing": true
    }
   },
   "outputs": [],
   "source": [
    "# train loop\n",
    "for epoch in range(epoch_nums):\n",
    "        loop = tqdm(enumerate(train_dataset), total=len(train_dataset))\n",
    "\n",
    "        model.train()\n",
    "        # for i, data in enumerate(train_dataset, 0):\n",
    "        for i, data in loop:\n",
    "            features, labels = data\n",
    "\n",
    "            optimizer.zero_grad()\n",
    "\n",
    "            y_pre = model(features)\n",
    "            loss = cost(y_pre, labels)\n",
    "\n",
    "            # optimizer.zero_grad()\n",
    "            loss.backward()\n",
    "            optimizer.step()\n",
    "            loop.set_description(f'Epoch [{epoch}/{epoch_nums}]')\n",
    "            loop.set_postfix(loss=loss.item())"
   ]
  },
  {
   "cell_type": "code",
   "execution_count": 11,
   "metadata": {},
   "outputs": [],
   "source": [
    "def predict(data_test_input):\n",
    "    model.eval()\n",
    "    pred_data = model(data_test_input)\n",
    "    return pred_data"
   ]
  },
  {
   "cell_type": "code",
   "execution_count": 12,
   "metadata": {},
   "outputs": [],
   "source": [
    "test_pred = predict(test_features)\n",
    "test_pred = test_pred.data.numpy()"
   ]
  },
  {
   "cell_type": "code",
   "execution_count": null,
   "metadata": {
    "pycharm": {
     "is_executing": true
    }
   },
   "outputs": [],
   "source": [
    "# test = test_data.iloc[:, 2] # test speed\n",
    "test = test_data.loc[:, ['speed']] # test speed\n",
    "pred = np.zeros(len(test)) # pred speed\n",
    "\n",
    "for index in range(len(test)):\n",
    "    pred[index] = sum(test_pred[0:index]) / 5\n",
    "\n",
    "plt.figure(figsize=(16, 4))\n",
    "\n",
    "y_pred = test_pred\n",
    "y_test = test_labels\n",
    "\n",
    "# 画出加速度-时间曲线\n",
    "plt.title(\"Train Acceleration\")\n",
    "plt.xlabel('Time / s')\n",
    "plt.ylabel('Acceleration m/s')\n",
    "\n",
    "data_len = len(y_test) - 1\n",
    "x = 0.2 * np.linspace(0, data_len, data_len+1, endpoint=True)\n",
    "\n",
    "plt.plot(x, y_test/100, 'b', linewidth=1, label=\"test acceleration\")\n",
    "plt.plot(x, y_pred/100, 'r', linewidth=1, label=\"pred acceleration\")\n",
    "plt.legend()\n",
    "plt.show()"
   ]
  },
  {
   "cell_type": "code",
   "execution_count": null,
   "metadata": {
    "pycharm": {
     "is_executing": true
    }
   },
   "outputs": [],
   "source": [
    "# 画出速度-时间曲线\n",
    "plt.title(\"Train Speed\")\n",
    "plt.xlabel('Time / s')\n",
    "plt.ylabel('Speed m/s')\n",
    "\n",
    "data_len = len(test) - 1\n",
    "x = 0.2 * np.linspace(0, data_len, data_len+1, endpoint=True)\n",
    "\n",
    "plt.plot(test/100, 'b', linewidth=1, label=\"test speed\")\n",
    "plt.plot(pred/100, 'r', linewidth=1, label=\"pred speed\")\n",
    "plt.legend()\n",
    "plt.show()"
   ]
  },
  {
   "cell_type": "code",
   "execution_count": null,
   "metadata": {},
   "outputs": [],
   "source": []
  }
 ],
 "metadata": {
  "kernelspec": {
   "display_name": "Python 3 (ipykernel)",
   "language": "python",
   "name": "python3"
  },
  "language_info": {
   "codemirror_mode": {
    "name": "ipython",
    "version": 3
   },
   "file_extension": ".py",
   "mimetype": "text/x-python",
   "name": "python",
   "nbconvert_exporter": "python",
   "pygments_lexer": "ipython3",
   "version": "3.7.9"
  }
 },
 "nbformat": 4,
 "nbformat_minor": 1
}
